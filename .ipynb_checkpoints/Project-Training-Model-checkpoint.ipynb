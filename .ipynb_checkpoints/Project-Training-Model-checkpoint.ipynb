{
 "cells": [
  {
   "cell_type": "markdown",
   "id": "2181c671",
   "metadata": {},
   "source": [
    "## Project For Model Training\n"
   ]
  },
  {
   "cell_type": "markdown",
   "id": "d47a9be7",
   "metadata": {},
   "source": []
  }
 ],
 "metadata": {
  "language_info": {
   "name": "python"
  }
 },
 "nbformat": 4,
 "nbformat_minor": 5
}
